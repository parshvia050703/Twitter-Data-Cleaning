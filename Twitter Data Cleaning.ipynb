{
 "cells": [
  {
   "cell_type": "markdown",
   "id": "797edb17-0640-4386-90cc-0000c795450b",
   "metadata": {},
   "source": [
    "\"\"\"\n",
    "twitter_cleaning_project.py\n",
    "Clean and profile the Twitter_Data.csv sentiment dataset\n",
    "========================================================\n",
    "Author : <Parshvi Akkewar>\n",
    "Date   : 2025-06-01\n",
    "\n",
    "Key steps\n",
    "---------\n",
    "1. Load & validate raw data (data-integrity)\n",
    "2. Handle missing values\n",
    "3. Remove duplicate rows\n",
    "4. Standardise text & label formats\n",
    "5. Detect & treat outliers (tweet length)\n",
    "6. Quick EDA & save cleaned data\n",
    "\"\"\"\n"
   ]
  },
  {
   "cell_type": "code",
   "execution_count": 8,
   "id": "35491f4b-dac2-43a1-9ad8-bc029b702db5",
   "metadata": {},
   "outputs": [],
   "source": [
    "# Import Libraries\n",
    "\n",
    "import pandas as pd"
   ]
  },
  {
   "cell_type": "code",
   "execution_count": 10,
   "id": "d8cd2c4f-d6e1-40f3-aa77-636becec8a41",
   "metadata": {},
   "outputs": [],
   "source": [
    "# Load the dataset\n",
    "df = pd.read_csv(\"Twitter_Data.csv\")"
   ]
  },
  {
   "cell_type": "code",
   "execution_count": 12,
   "id": "031111d7-6cb2-4361-8c89-c96f045a1a8e",
   "metadata": {},
   "outputs": [
    {
     "name": "stdout",
     "output_type": "stream",
     "text": [
      "Initial Info:\n",
      "<class 'pandas.core.frame.DataFrame'>\n",
      "RangeIndex: 162980 entries, 0 to 162979\n",
      "Data columns (total 2 columns):\n",
      " #   Column      Non-Null Count   Dtype  \n",
      "---  ------      --------------   -----  \n",
      " 0   clean_text  162976 non-null  object \n",
      " 1   category    162973 non-null  float64\n",
      "dtypes: float64(1), object(1)\n",
      "memory usage: 2.5+ MB\n",
      "None\n"
     ]
    }
   ],
   "source": [
    "# 1. Data Integrity: Check for required columns and datatypes\n",
    "print(\"Initial Info:\")\n",
    "print(df.info())\n"
   ]
  },
  {
   "cell_type": "code",
   "execution_count": 14,
   "id": "4fd93706-9b9d-44ca-8e8b-aa8cbcb991d9",
   "metadata": {},
   "outputs": [],
   "source": [
    "# 2. Missing Data Handling: Remove rows with missing values\n",
    "df = df.dropna()\n"
   ]
  },
  {
   "cell_type": "code",
   "execution_count": 18,
   "id": "c694ad06-f86e-46a8-962e-52710f049f00",
   "metadata": {},
   "outputs": [],
   "source": [
    "# 3. Duplicate Removal: Drop duplicate rows\n",
    "df = df.drop_duplicates()"
   ]
  },
  {
   "cell_type": "code",
   "execution_count": 20,
   "id": "844fff65-3750-44c6-9473-bbb4297e409a",
   "metadata": {},
   "outputs": [],
   "source": [
    "# 4. Standardization: Strip whitespaces from text and ensure category is numeric\n",
    "df['clean_text'] = df['clean_text'].str.strip()\n",
    "df['category'] = pd.to_numeric(df['category'], errors='coerce')\n"
   ]
  },
  {
   "cell_type": "code",
   "execution_count": 22,
   "id": "c0ce8eba-7e4e-428f-9a8c-57a9f12694a3",
   "metadata": {},
   "outputs": [],
   "source": [
    "# Keep only valid categories: -1, 0, 1\n",
    "df = df[df['category'].isin([-1, 0, 1])]\n"
   ]
  },
  {
   "cell_type": "code",
   "execution_count": 24,
   "id": "b45f2309-32c9-4ad0-a2c5-92518fc19bb7",
   "metadata": {},
   "outputs": [],
   "source": [
    "# 5. Outlier Detection: Identify outliers in tweet length\n",
    "df['text_length'] = df['clean_text'].apply(len)\n",
    "Q1 = df['text_length'].quantile(0.25)\n",
    "Q3 = df['text_length'].quantile(0.75)\n",
    "IQR = Q3 - Q1\n",
    "lower = Q1 - 1.5 * IQR\n",
    "upper = Q3 + 1.5 * IQR\n",
    "df = df[(df['text_length'] >= lower) & (df['text_length'] <= upper)]\n"
   ]
  },
  {
   "cell_type": "code",
   "execution_count": 26,
   "id": "754f1355-e9b3-4d88-9590-3ab97e12428c",
   "metadata": {},
   "outputs": [],
   "source": [
    "# Drop the helper column\n",
    "df = df.drop(columns=['text_length'])"
   ]
  },
  {
   "cell_type": "code",
   "execution_count": 28,
   "id": "aed214b8-699d-4b80-95b7-b8011ae1a1b3",
   "metadata": {},
   "outputs": [
    {
     "name": "stdout",
     "output_type": "stream",
     "text": [
      "\n",
      "✅ Data cleaning complete. Cleaned data saved as 'Twitter_Data_Cleaned.csv'\n"
     ]
    }
   ],
   "source": [
    "# Save the cleaned dataset\n",
    "df.to_csv(\"Twitter_Data_Cleaned.csv\", index=False)\n",
    "\n",
    "print(\"\\n✅ Data cleaning complete. Cleaned data saved as 'Twitter_Data_Cleaned.csv'\")\n"
   ]
  },
  {
   "cell_type": "code",
   "execution_count": null,
   "id": "151f6ced-bbbd-4f1b-95ea-d6abcf23327b",
   "metadata": {},
   "outputs": [],
   "source": []
  }
 ],
 "metadata": {
  "kernelspec": {
   "display_name": "Python 3 (ipykernel)",
   "language": "python",
   "name": "python3"
  },
  "language_info": {
   "codemirror_mode": {
    "name": "ipython",
    "version": 3
   },
   "file_extension": ".py",
   "mimetype": "text/x-python",
   "name": "python",
   "nbconvert_exporter": "python",
   "pygments_lexer": "ipython3",
   "version": "3.12.4"
  }
 },
 "nbformat": 4,
 "nbformat_minor": 5
}
